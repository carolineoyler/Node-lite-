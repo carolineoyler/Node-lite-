{
  "nbformat": 4,
  "nbformat_minor": 0,
  "metadata": {
    "colab": {
      "name": "rockpaperscissors.ipynb",
      "provenance": [],
      "include_colab_link": true
    },
    "kernelspec": {
      "name": "python3",
      "display_name": "Python 3"
    }
  },
  "cells": [
    {
      "cell_type": "markdown",
      "metadata": {
        "id": "view-in-github",
        "colab_type": "text"
      },
      "source": [
        "<a href=\"https://colab.research.google.com/github/carolineoyler/Node-lite-/blob/master/rockpaperscissors.ipynb\" target=\"_parent\"><img src=\"https://colab.research.google.com/assets/colab-badge.svg\" alt=\"Open In Colab\"/></a>"
      ]
    },
    {
      "cell_type": "code",
      "metadata": {
        "id": "cToYUGeBJZu6",
        "colab_type": "code",
        "outputId": "8873f82a-383b-40e3-e7b1-f2b7ce89f890",
        "colab": {
          "base_uri": "https://localhost:8080/",
          "height": 68
        }
      },
      "source": [
        "#rock paper scissors \n",
        "\n",
        "from random import randint\n",
        "\n",
        "t = [\"rock\", \"paper\", \"scissors\"]\n",
        "\n",
        "computer = t[randint(0,2)]\n",
        "print(\"rock, paper, scissors?\")\n",
        "\n",
        "player = False \n",
        "\n",
        "while player == False :\n",
        "  player = input()\n",
        "  if player == computer :\n",
        "    print (\"tie!\")\n",
        "  elif player == \"rock\":\n",
        "    if computer == \"paper\":\n",
        "      print(\"you lose!\", computer, \"covers\", player)\n",
        "    else:\n",
        "      print(\"you win!\", player, \"smashes\", computer)\n",
        "  elif player == \"paper\":\n",
        "    if computer == \"scissors\":\n",
        "      print(\"you lose!\", computer, \"cuts\", player)\n",
        "    else: \n",
        "      print(\"you win!\", player, \"covers\", computer)\n",
        "  elif player == \"scissors\":\n",
        "    if computer == \"rock\":\n",
        "      print(\"you lose!\", computer, \"smashes\", player)\n",
        "    else:\n",
        "      print(\"you win!\", player, \"cut\", computer)\n",
        "    "
      ],
      "execution_count": 0,
      "outputs": [
        {
          "output_type": "stream",
          "text": [
            "rock, paper, scissors?\n",
            "rock\n",
            "you win! rock smashes scissors\n"
          ],
          "name": "stdout"
        }
      ]
    }
  ]
}