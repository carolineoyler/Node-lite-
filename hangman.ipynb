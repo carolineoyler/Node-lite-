{
  "nbformat": 4,
  "nbformat_minor": 0,
  "metadata": {
    "colab": {
      "name": "hangman.ipynb",
      "provenance": [],
      "include_colab_link": true
    },
    "kernelspec": {
      "name": "python3",
      "display_name": "Python 3"
    }
  },
  "cells": [
    {
      "cell_type": "markdown",
      "metadata": {
        "id": "view-in-github",
        "colab_type": "text"
      },
      "source": [
        "<a href=\"https://colab.research.google.com/github/carolineoyler/Node-lite-/blob/master/hangman.ipynb\" target=\"_parent\"><img src=\"https://colab.research.google.com/assets/colab-badge.svg\" alt=\"Open In Colab\"/></a>"
      ]
    },
    {
      "cell_type": "code",
      "metadata": {
        "id": "4C3oW31dJ935",
        "colab_type": "code",
        "colab": {}
      },
      "source": [
        "\n",
        "from random import randint "
      ],
      "execution_count": 0,
      "outputs": []
    },
    {
      "cell_type": "code",
      "metadata": {
        "id": "WffswSTbkV7w",
        "colab_type": "code",
        "outputId": "f1a1a7e0-5fd4-4659-d96f-a9938048da63",
        "colab": {
          "base_uri": "https://localhost:8080/",
          "height": 187
        }
      },
      "source": [
        "possible_words = [\"flamingo\", \"bear\", \"dolphin\", \"gopher\", \"elephant\", \"beaver\", \"gazelle\", \"sloth\"]\n",
        "answer = possible_word[randint(0,7)]\n",
        "print(\"word: \" + \"_\" * len(answer))\n",
        "guesses = \"\"\n",
        "turn = 0\n",
        "\n",
        "while turn < 10 : \n",
        "  guess = input(\"guess a letter, you have \" + str(10-turn) + \"guesses left\")\n",
        "  if guess == \"1\":\n",
        "    word = inpit(\"what's the word?\")\n",
        "  guesses = guesses + guess\n",
        "  if guess == \"1\":\n",
        "    current_answer = word \n",
        "  else: \n",
        "    current_answer = \"\"\n",
        "    for letter in answer:\n",
        "        if letter in guesses:\n",
        "          current_answer += letter \n",
        "        else:\n",
        "          current_answer += \"_\"\n",
        "  print(current_answer)\n",
        "  if current_answer == answer:\n",
        "    print(\"you won!\")\n",
        "    break\n",
        "  else:\n",
        "    turn += 1 \n",
        "    \n",
        "  if current_answer != answer:\n",
        "    print(\"you lost!\")"
      ],
      "execution_count": 0,
      "outputs": [
        {
          "output_type": "stream",
          "text": [
            "word: _______\n",
            "guess a letter, you have 10guesses leftbear\n",
            "_a_e__e\n",
            "you lost!\n",
            "guess a letter, you have 9guesses leftbeaver\n",
            "_a_e__e\n",
            "you lost!\n",
            "guess a letter, you have 8guesses leftgazelle\n",
            "gazelle\n",
            "you won!\n"
          ],
          "name": "stdout"
        }
      ]
    }
  ]
}